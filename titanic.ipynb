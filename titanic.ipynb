{
 "cells": [
  {
   "cell_type": "code",
   "execution_count": 41,
   "id": "b32f8cd2",
   "metadata": {},
   "outputs": [
    {
     "data": {
      "text/html": [
       "<div>\n",
       "<style scoped>\n",
       "    .dataframe tbody tr th:only-of-type {\n",
       "        vertical-align: middle;\n",
       "    }\n",
       "\n",
       "    .dataframe tbody tr th {\n",
       "        vertical-align: top;\n",
       "    }\n",
       "\n",
       "    .dataframe thead th {\n",
       "        text-align: right;\n",
       "    }\n",
       "</style>\n",
       "<table border=\"1\" class=\"dataframe\">\n",
       "  <thead>\n",
       "    <tr style=\"text-align: right;\">\n",
       "      <th></th>\n",
       "      <th>0</th>\n",
       "    </tr>\n",
       "  </thead>\n",
       "  <tbody>\n",
       "    <tr>\n",
       "      <th>PassengerId</th>\n",
       "      <td>1</td>\n",
       "    </tr>\n",
       "    <tr>\n",
       "      <th>Survived</th>\n",
       "      <td>0</td>\n",
       "    </tr>\n",
       "    <tr>\n",
       "      <th>Pclass</th>\n",
       "      <td>3</td>\n",
       "    </tr>\n",
       "    <tr>\n",
       "      <th>Name</th>\n",
       "      <td>Braund, Mr. Owen Harris</td>\n",
       "    </tr>\n",
       "    <tr>\n",
       "      <th>Sex</th>\n",
       "      <td>male</td>\n",
       "    </tr>\n",
       "    <tr>\n",
       "      <th>Age</th>\n",
       "      <td>22.0</td>\n",
       "    </tr>\n",
       "    <tr>\n",
       "      <th>SibSp</th>\n",
       "      <td>1</td>\n",
       "    </tr>\n",
       "    <tr>\n",
       "      <th>Parch</th>\n",
       "      <td>0</td>\n",
       "    </tr>\n",
       "    <tr>\n",
       "      <th>Ticket</th>\n",
       "      <td>A/5 21171</td>\n",
       "    </tr>\n",
       "    <tr>\n",
       "      <th>Fare</th>\n",
       "      <td>7.25</td>\n",
       "    </tr>\n",
       "    <tr>\n",
       "      <th>Cabin</th>\n",
       "      <td>NaN</td>\n",
       "    </tr>\n",
       "    <tr>\n",
       "      <th>Embarked</th>\n",
       "      <td>S</td>\n",
       "    </tr>\n",
       "  </tbody>\n",
       "</table>\n",
       "</div>"
      ],
      "text/plain": [
       "                                   0\n",
       "PassengerId                        1\n",
       "Survived                           0\n",
       "Pclass                             3\n",
       "Name         Braund, Mr. Owen Harris\n",
       "Sex                             male\n",
       "Age                             22.0\n",
       "SibSp                              1\n",
       "Parch                              0\n",
       "Ticket                     A/5 21171\n",
       "Fare                            7.25\n",
       "Cabin                            NaN\n",
       "Embarked                           S"
      ]
     },
     "execution_count": 41,
     "metadata": {},
     "output_type": "execute_result"
    }
   ],
   "source": [
    "import pandas as pd\n",
    "df = pd.read_csv('../input/titanic/train.csv')\n",
    "df.head(1).T"
   ]
  },
  {
   "cell_type": "code",
   "execution_count": 4,
   "id": "db7eea95",
   "metadata": {},
   "outputs": [],
   "source": [
    "from sklearn.model_selection import ShuffleSplit\n",
    "shu = ShuffleSplit(n_splits=2, test_size=.3, random_state=0)\n",
    "for train_id, test_id in shu.split(df):\n",
    "    train = df.iloc[train_id]\n",
    "    test = df.iloc[test_id]"
   ]
  },
  {
   "cell_type": "code",
   "execution_count": 70,
   "id": "cb2363c4",
   "metadata": {},
   "outputs": [
    {
     "name": "stdout",
     "output_type": "stream",
     "text": [
      "num -> ['Pclass', 'Age', 'SibSp', 'Parch', 'Fare']\n",
      "cat -> ['Name', 'Sex', 'Ticket', 'Cabin', 'Embarked']\n"
     ]
    }
   ],
   "source": [
    "target = 'Survived'\n",
    "num = [x for x in df.columns if df.dtypes[x] != 'object']\n",
    "cat = [x for x in df.columns if df.dtypes[x] == 'object']\n",
    "num.remove(target)\n",
    "num.remove('PassengerId')\n",
    "print('num ->', num)\n",
    "print('cat ->', cat)"
   ]
  },
  {
   "cell_type": "code",
   "execution_count": 71,
   "id": "a0d42a43",
   "metadata": {},
   "outputs": [],
   "source": [
    "import seaborn as sns\n",
    "sns.set_theme(style=\"whitegrid\")"
   ]
  },
  {
   "cell_type": "code",
   "execution_count": 72,
   "id": "68268d62",
   "metadata": {},
   "outputs": [],
   "source": [
    "import numpy as np"
   ]
  },
  {
   "cell_type": "code",
   "execution_count": 83,
   "id": "5183be36",
   "metadata": {},
   "outputs": [
    {
     "data": {
      "image/png": "[encoded data removed]",
      "text/plain": [
       "<Figure size 640x480 with 1 Axes>"
      ]
     },
     "metadata": {},
     "output_type": "display_data"
    }
   ],
   "source": [
    "cr = train[num+[target]].corr()\n",
    "np.fill_diagonal(cr.values, 0)\n",
    "sns.heatmap(cr, cbar=False, cmap='RdBu', center=0, annot=True, square=True, linewidth=.5);"
   ]
  },
  {
   "cell_type": "markdown",
   "id": "b5250b12",
   "metadata": {},
   "source": [
    "# Model"
   ]
  },
  {
   "cell_type": "code",
   "execution_count": 29,
   "id": "bbc961eb",
   "metadata": {},
   "outputs": [],
   "source": [
    "from sklearn.impute import SimpleImputer\n",
    "from sklearn.pipeline import make_pipeline\n",
    "model = make_pipeline(SimpleImputer(), GaussianNB());\n",
    "model.fit(train[num], train[target]);\n",
    "pred = model.predict(test[num])"
   ]
  },
  {
   "cell_type": "markdown",
   "id": "fa1b38b1",
   "metadata": {},
   "source": [
    "# Validate"
   ]
  },
  {
   "cell_type": "code",
   "execution_count": 30,
   "id": "a4c97c5a",
   "metadata": {},
   "outputs": [
    {
     "data": {
      "text/plain": [
       "0.6646723646723647"
      ]
     },
     "execution_count": 30,
     "metadata": {},
     "output_type": "execute_result"
    }
   ],
   "source": [
    "from sklearn.model_selection import cross_val_score\n",
    "cross_val_score(model, test[num], test[target], cv=10).mean()"
   ]
  },
  {
   "cell_type": "markdown",
   "id": "d02c44a6",
   "metadata": {},
   "source": [
    "# Submission"
   ]
  },
  {
   "cell_type": "code",
   "execution_count": 32,
   "id": "edbccd6e",
   "metadata": {},
   "outputs": [],
   "source": [
    "exam = pd.read_csv('../input/titanic/test.csv')"
   ]
  },
  {
   "cell_type": "code",
   "execution_count": 38,
   "id": "a168f277",
   "metadata": {},
   "outputs": [],
   "source": [
    "submission = pd.DataFrame({\n",
    "    'PassengerId': exam['PassengerId'],\n",
    "    'Survived': model.predict(exam[num])\n",
    "})"
   ]
  },
  {
   "cell_type": "code",
   "execution_count": 39,
   "id": "1f170e38",
   "metadata": {},
   "outputs": [],
   "source": [
    "submission.to_csv('submission.csv', index=False)"
   ]
  },
  {
   "cell_type": "code",
   "execution_count": null,
   "id": "eb26c448",
   "metadata": {},
   "outputs": [],
   "source": []
  }
 ],
 "metadata": {
  "kernelspec": {
   "display_name": "Python 3 (ipykernel)",
   "language": "python",
   "name": "python3"
  },
  "language_info": {
   "codemirror_mode": {
    "name": "ipython",
    "version": 3
   },
   "file_extension": ".py",
   "mimetype": "text/x-python",
   "name": "python",
   "nbconvert_exporter": "python",
   "pygments_lexer": "ipython3",
   "version": "3.9.16"
  }
 },
 "nbformat": 4,
 "nbformat_minor": 5
}

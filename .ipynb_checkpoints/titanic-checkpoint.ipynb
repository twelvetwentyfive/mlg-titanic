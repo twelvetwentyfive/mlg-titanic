{
 "cells": [
  {
   "cell_type": "code",
   "execution_count": 41,
   "id": "b32f8cd2",
   "metadata": {},
   "outputs": [
    {
     "data": {
      "text/html": [
       "<div>\n",
       "<style scoped>\n",
       "    .dataframe tbody tr th:only-of-type {\n",
       "        vertical-align: middle;\n",
       "    }\n",
       "\n",
       "    .dataframe tbody tr th {\n",
       "        vertical-align: top;\n",
       "    }\n",
       "\n",
       "    .dataframe thead th {\n",
       "        text-align: right;\n",
       "    }\n",
       "</style>\n",
       "<table border=\"1\" class=\"dataframe\">\n",
       "  <thead>\n",
       "    <tr style=\"text-align: right;\">\n",
       "      <th></th>\n",
       "      <th>0</th>\n",
       "    </tr>\n",
       "  </thead>\n",
       "  <tbody>\n",
       "    <tr>\n",
       "      <th>PassengerId</th>\n",
       "      <td>1</td>\n",
       "    </tr>\n",
       "    <tr>\n",
       "      <th>Survived</th>\n",
       "      <td>0</td>\n",
       "    </tr>\n",
       "    <tr>\n",
       "      <th>Pclass</th>\n",
       "      <td>3</td>\n",
       "    </tr>\n",
       "    <tr>\n",
       "      <th>Name</th>\n",
       "      <td>Braund, Mr. Owen Harris</td>\n",
       "    </tr>\n",
       "    <tr>\n",
       "      <th>Sex</th>\n",
       "      <td>male</td>\n",
       "    </tr>\n",
       "    <tr>\n",
       "      <th>Age</th>\n",
       "      <td>22.0</td>\n",
       "    </tr>\n",
       "    <tr>\n",
       "      <th>SibSp</th>\n",
       "      <td>1</td>\n",
       "    </tr>\n",
       "    <tr>\n",
       "      <th>Parch</th>\n",
       "      <td>0</td>\n",
       "    </tr>\n",
       "    <tr>\n",
       "      <th>Ticket</th>\n",
       "      <td>A/5 21171</td>\n",
       "    </tr>\n",
       "    <tr>\n",
       "      <th>Fare</th>\n",
       "      <td>7.25</td>\n",
       "    </tr>\n",
       "    <tr>\n",
       "      <th>Cabin</th>\n",
       "      <td>NaN</td>\n",
       "    </tr>\n",
       "    <tr>\n",
       "      <th>Embarked</th>\n",
       "      <td>S</td>\n",
       "    </tr>\n",
       "  </tbody>\n",
       "</table>\n",
       "</div>"
      ],
      "text/plain": [
       "                                   0\n",
       "PassengerId                        1\n",
       "Survived                           0\n",
       "Pclass                             3\n",
       "Name         Braund, Mr. Owen Harris\n",
       "Sex                             male\n",
       "Age                             22.0\n",
       "SibSp                              1\n",
       "Parch                              0\n",
       "Ticket                     A/5 21171\n",
       "Fare                            7.25\n",
       "Cabin                            NaN\n",
       "Embarked                           S"
      ]
     },
     "execution_count": 41,
     "metadata": {},
     "output_type": "execute_result"
    }
   ],
   "source": [
    "import pandas as pd\n",
    "df = pd.read_csv('../input/titanic/train.csv')\n",
    "df.head(1).T"
   ]
  },
  {
   "cell_type": "code",
   "execution_count": 4,
   "id": "db7eea95",
   "metadata": {},
   "outputs": [],
   "source": [
    "from sklearn.model_selection import ShuffleSplit\n",
    "shu = ShuffleSplit(n_splits=2, test_size=.3, random_state=0)\n",
    "for train_id, test_id in shu.split(df):\n",
    "    train = df.iloc[train_id]\n",
    "    test = df.iloc[test_id]"
   ]
  },
  {
   "cell_type": "code",
   "execution_count": 5,
   "id": "cb2363c4",
   "metadata": {},
   "outputs": [
    {
     "name": "stdout",
     "output_type": "stream",
     "text": [
      "num -> ['PassengerId', 'Pclass', 'Age', 'SibSp', 'Parch', 'Fare']\n",
      "cat -> ['Name', 'Sex', 'Ticket', 'Cabin', 'Embarked']\n"
     ]
    }
   ],
   "source": [
    "target = 'Survived'\n",
    "num = [x for x in df.columns if df.dtypes[x] != 'object']\n",
    "cat = [x for x in df.columns if df.dtypes[x] == 'object']\n",
    "num.remove(target)\n",
    "print('num ->', num)\n",
    "print('cat ->', cat)"
   ]
  },
  {
   "cell_type": "code",
   "execution_count": 42,
   "id": "76aa0a28",
   "metadata": {},
   "outputs": [],
   "source": [
    "import seaborn as sns"
   ]
  },
  {
   "cell_type": "code",
   "execution_count": 46,
   "id": "587c5afe",
   "metadata": {},
   "outputs": [],
   "source": [
    "import numpy as np"
   ]
  },
  {
   "cell_type": "code",
   "execution_count": 47,
   "id": "4139c2ee",
   "metadata": {},
   "outputs": [
    {
     "data": {
      "text/plain": [
       "array([1., 1., 1., 1., 1., 1., 1.])"
      ]
     },
     "execution_count": 47,
     "metadata": {},
     "output_type": "execute_result"
    }
   ],
   "source": [
    "cr = train.corr(numeric_only=True)\n",
    "np.diagonal(cr, 0)"
   ]
  },
  {
   "cell_type": "code",
   "execution_count": 48,
   "id": "ffc1b31b",
   "metadata": {},
   "outputs": [
    {
     "data": {
      "text/html": [
       "<div>\n",
       "<style scoped>\n",
       "    .dataframe tbody tr th:only-of-type {\n",
       "        vertical-align: middle;\n",
       "    }\n",
       "\n",
       "    .dataframe tbody tr th {\n",
       "        vertical-align: top;\n",
       "    }\n",
       "\n",
       "    .dataframe thead th {\n",
       "        text-align: right;\n",
       "    }\n",
       "</style>\n",
       "<table border=\"1\" class=\"dataframe\">\n",
       "  <thead>\n",
       "    <tr style=\"text-align: right;\">\n",
       "      <th></th>\n",
       "      <th>PassengerId</th>\n",
       "      <th>Survived</th>\n",
       "      <th>Pclass</th>\n",
       "      <th>Age</th>\n",
       "      <th>SibSp</th>\n",
       "      <th>Parch</th>\n",
       "      <th>Fare</th>\n",
       "    </tr>\n",
       "  </thead>\n",
       "  <tbody>\n",
       "    <tr>\n",
       "      <th>PassengerId</th>\n",
       "      <td>1.000000</td>\n",
       "      <td>0.003605</td>\n",
       "      <td>-0.019167</td>\n",
       "      <td>0.010916</td>\n",
       "      <td>-0.071526</td>\n",
       "      <td>0.018522</td>\n",
       "      <td>0.001875</td>\n",
       "    </tr>\n",
       "    <tr>\n",
       "      <th>Survived</th>\n",
       "      <td>0.003605</td>\n",
       "      <td>1.000000</td>\n",
       "      <td>-0.344759</td>\n",
       "      <td>-0.101824</td>\n",
       "      <td>0.004667</td>\n",
       "      <td>0.098370</td>\n",
       "      <td>0.272715</td>\n",
       "    </tr>\n",
       "    <tr>\n",
       "      <th>Pclass</th>\n",
       "      <td>-0.019167</td>\n",
       "      <td>-0.344759</td>\n",
       "      <td>1.000000</td>\n",
       "      <td>-0.365935</td>\n",
       "      <td>0.054459</td>\n",
       "      <td>0.020432</td>\n",
       "      <td>-0.544719</td>\n",
       "    </tr>\n",
       "    <tr>\n",
       "      <th>Age</th>\n",
       "      <td>0.010916</td>\n",
       "      <td>-0.101824</td>\n",
       "      <td>-0.365935</td>\n",
       "      <td>1.000000</td>\n",
       "      <td>-0.307745</td>\n",
       "      <td>-0.187615</td>\n",
       "      <td>0.093567</td>\n",
       "    </tr>\n",
       "    <tr>\n",
       "      <th>SibSp</th>\n",
       "      <td>-0.071526</td>\n",
       "      <td>0.004667</td>\n",
       "      <td>0.054459</td>\n",
       "      <td>-0.307745</td>\n",
       "      <td>1.000000</td>\n",
       "      <td>0.384403</td>\n",
       "      <td>0.168531</td>\n",
       "    </tr>\n",
       "    <tr>\n",
       "      <th>Parch</th>\n",
       "      <td>0.018522</td>\n",
       "      <td>0.098370</td>\n",
       "      <td>0.020432</td>\n",
       "      <td>-0.187615</td>\n",
       "      <td>0.384403</td>\n",
       "      <td>1.000000</td>\n",
       "      <td>0.206501</td>\n",
       "    </tr>\n",
       "    <tr>\n",
       "      <th>Fare</th>\n",
       "      <td>0.001875</td>\n",
       "      <td>0.272715</td>\n",
       "      <td>-0.544719</td>\n",
       "      <td>0.093567</td>\n",
       "      <td>0.168531</td>\n",
       "      <td>0.206501</td>\n",
       "      <td>1.000000</td>\n",
       "    </tr>\n",
       "  </tbody>\n",
       "</table>\n",
       "</div>"
      ],
      "text/plain": [
       "             PassengerId  Survived    Pclass       Age     SibSp     Parch  \\\n",
       "PassengerId     1.000000  0.003605 -0.019167  0.010916 -0.071526  0.018522   \n",
       "Survived        0.003605  1.000000 -0.344759 -0.101824  0.004667  0.098370   \n",
       "Pclass         -0.019167 -0.344759  1.000000 -0.365935  0.054459  0.020432   \n",
       "Age             0.010916 -0.101824 -0.365935  1.000000 -0.307745 -0.187615   \n",
       "SibSp          -0.071526  0.004667  0.054459 -0.307745  1.000000  0.384403   \n",
       "Parch           0.018522  0.098370  0.020432 -0.187615  0.384403  1.000000   \n",
       "Fare            0.001875  0.272715 -0.544719  0.093567  0.168531  0.206501   \n",
       "\n",
       "                 Fare  \n",
       "PassengerId  0.001875  \n",
       "Survived     0.272715  \n",
       "Pclass      -0.544719  \n",
       "Age          0.093567  \n",
       "SibSp        0.168531  \n",
       "Parch        0.206501  \n",
       "Fare         1.000000  "
      ]
     },
     "execution_count": 48,
     "metadata": {},
     "output_type": "execute_result"
    }
   ],
   "source": [
    "cr"
   ]
  },
  {
   "cell_type": "markdown",
   "id": "b3963d5d",
   "metadata": {},
   "source": [
    "# Model"
   ]
  },
  {
   "cell_type": "code",
   "execution_count": 29,
   "id": "0942dfae",
   "metadata": {},
   "outputs": [],
   "source": [
    "from sklearn.impute import SimpleImputer\n",
    "from sklearn.pipeline import make_pipeline\n",
    "model = make_pipeline(SimpleImputer(), GaussianNB());\n",
    "model.fit(train[num], train[target]);\n",
    "pred = model.predict(test[num])"
   ]
  },
  {
   "cell_type": "markdown",
   "id": "40eb3058",
   "metadata": {},
   "source": [
    "# Validate"
   ]
  },
  {
   "cell_type": "code",
   "execution_count": 30,
   "id": "a14ca2cd",
   "metadata": {},
   "outputs": [
    {
     "data": {
      "text/plain": [
       "0.6646723646723647"
      ]
     },
     "execution_count": 30,
     "metadata": {},
     "output_type": "execute_result"
    }
   ],
   "source": [
    "from sklearn.model_selection import cross_val_score\n",
    "cross_val_score(model, test[num], test[target], cv=10).mean()"
   ]
  },
  {
   "cell_type": "markdown",
   "id": "3e94ee97",
   "metadata": {},
   "source": [
    "# Submission"
   ]
  },
  {
   "cell_type": "code",
   "execution_count": 32,
   "id": "edbccd6e",
   "metadata": {},
   "outputs": [],
   "source": [
    "exam = pd.read_csv('../input/titanic/test.csv')"
   ]
  },
  {
   "cell_type": "code",
   "execution_count": 38,
   "id": "a168f277",
   "metadata": {},
   "outputs": [],
   "source": [
    "submission = pd.DataFrame({\n",
    "    'PassengerId': exam['PassengerId'],\n",
    "    'Survived': model.predict(exam[num])\n",
    "})"
   ]
  },
  {
   "cell_type": "code",
   "execution_count": 39,
   "id": "1f170e38",
   "metadata": {},
   "outputs": [],
   "source": [
    "submission.to_csv('submission.csv', index=False)"
   ]
  },
  {
   "cell_type": "code",
   "execution_count": null,
   "id": "eb26c448",
   "metadata": {},
   "outputs": [],
   "source": []
  }
 ],
 "metadata": {
  "kernelspec": {
   "display_name": "Python 3 (ipykernel)",
   "language": "python",
   "name": "python3"
  },
  "language_info": {
   "codemirror_mode": {
    "name": "ipython",
    "version": 3
   },
   "file_extension": ".py",
   "mimetype": "text/x-python",
   "name": "python",
   "nbconvert_exporter": "python",
   "pygments_lexer": "ipython3",
   "version": "3.9.16"
  }
 },
 "nbformat": 4,
 "nbformat_minor": 5
}
